{
 "cells": [
  {
   "cell_type": "markdown",
   "id": "7b53c51c",
   "metadata": {},
   "source": [
    "### Importing Mol* into Jupyter notebooks\n",
    "The first step in this project is to use HTML to display a Mol* viewer in the notebook."
   ]
  },
  {
   "cell_type": "code",
   "execution_count": 2,
   "id": "adbbe3b0",
   "metadata": {},
   "outputs": [],
   "source": [
    "# The commented out code in cells 1-7 are from this Erik Marsja's page, entitled, \n",
    "# How to convert HTML to Jupyter Notebooks at this URL:\n",
    "# https://www.marsja.se/converting-html-to-a-jupyter-notebook/\n",
    "\n",
    "# import json"
   ]
  },
  {
   "cell_type": "code",
   "execution_count": 3,
   "id": "3be83c30",
   "metadata": {},
   "outputs": [],
   "source": [
    "# import urllib"
   ]
  },
  {
   "cell_type": "code",
   "execution_count": 4,
   "id": "53fc851c",
   "metadata": {},
   "outputs": [],
   "source": [
    "#from bs4 import BeautifulSoup"
   ]
  },
  {
   "cell_type": "code",
   "execution_count": 5,
   "id": "6ecce21d",
   "metadata": {},
   "outputs": [],
   "source": [
    "# url = 'https://www.marsja.se/python-manova-made-easy-using-statsmodels/'"
   ]
  },
  {
   "cell_type": "code",
   "execution_count": 6,
   "id": "d26689a6",
   "metadata": {},
   "outputs": [],
   "source": [
    "# headers = {'User-Agent': 'Mozilla/5.0 (X11; Linux x86_64) AppleWebKit/537.11'\\\n",
    "#             '(KHTML, like Gecko) Chrome/23.0.1271.64 Safari/537.11',\n",
    "#         'Accept': 'text/html,application/xhtml+xml,application/xml;q=0.9,*/*;q=0.8',\n",
    "#         'Accept-Charset': 'ISO-8859-1,utf-8;q=0.7,*;q=0.3',\n",
    "#         'Accept-Encoding': 'none',\n",
    "#         'Accept-Language': 'en-US,en;q=0.8',\n",
    "#         'Connection': 'keep-alive'}"
   ]
  },
  {
   "cell_type": "code",
   "execution_count": 7,
   "id": "d3fd2e10",
   "metadata": {},
   "outputs": [],
   "source": [
    "# req = urllib.request.Request(url, headers=headers)\n",
    "# page = urllib.request.urlopen(req)\n",
    "# text = page.read()"
   ]
  },
  {
   "cell_type": "code",
   "execution_count": 8,
   "id": "099bda37",
   "metadata": {},
   "outputs": [],
   "source": [
    "# soup = BeautifulSoup(text, 'lxml')\n",
    "# soup"
   ]
  },
  {
   "cell_type": "code",
   "execution_count": 22,
   "id": "79b47916",
   "metadata": {},
   "outputs": [],
   "source": [
    "import IPython\n",
    "from IPython.core.display import display, HTML"
   ]
  },
  {
   "cell_type": "code",
   "execution_count": 23,
   "id": "832fb92c",
   "metadata": {},
   "outputs": [
    {
     "data": {
      "text/html": [
       "<!DOCTYPE html>\n",
       "<html lang=\"en\">\n",
       "    <head>\n",
       "        <meta charset=\"utf-8\" />\n",
       "        <meta name=\"viewport\" content=\"width=device-width, user-scalable=no, minimum-scale=1.0, maximum-scale=1.0\">\n",
       "        <link rel=\"icon\" href=\"./favicon.ico\" type=\"image/x-icon\">\n",
       "        <title>Mol* Viewer</title>\n",
       "        <style>\n",
       "            * {\n",
       "                margin: 0;\n",
       "                padding: 0;\n",
       "                box-sizing: border-box;\n",
       "            }\n",
       "            html, body {\n",
       "                width: 100%;\n",
       "                height: 100%;\n",
       "                overflow: hidden;\n",
       "            }\n",
       "            hr {\n",
       "                margin: 10px;\n",
       "            }\n",
       "            h1, h2, h3, h4, h5 {\n",
       "                margin-top: 5px;\n",
       "                margin-bottom: 3px;\n",
       "            }\n",
       "            button {\n",
       "                padding: 2px;\n",
       "            }\n",
       "            #app {\n",
       "                position: absolute;\n",
       "                left: 100px;\n",
       "                top: 100px;\n",
       "                width: 800px;\n",
       "                height: 600px;\n",
       "            }\n",
       "        </style>\n",
       "        <link rel=\"stylesheet\" type=\"text/css\" href=\"molstar.css\" />\n",
       "    </head>\n",
       "    <body>\n",
       "        <div id=\"app\"></div>\n",
       "        <script type=\"text/javascript\" src=\"./molstar.js\"></script>\n",
       "        <script type=\"text/javascript\">\n",
       "            function getParam(name, regex) {\n",
       "                var r = new RegExp(name + '=' + '(' + regex + ')[&]?', 'i');\n",
       "                return decodeURIComponent(((window.location.search || '').match(r) || [])[1] || '');\n",
       "            }\n",
       "\n",
       "            var debugMode = getParam('debug-mode', '[^&]+').trim() === '1';\n",
       "            if (debugMode) molstar.setDebugMode(debugMode, debugMode);\n",
       "\n",
       "            var hideControls = getParam('hide-controls', '[^&]+').trim() === '1';\n",
       "            var collapseLeftPanel = getParam('collapse-left-panel', '[^&]+').trim() === '1';\n",
       "            var pdbProvider = getParam('pdb-provider', '[^&]+').trim().toLowerCase();\n",
       "            var emdbProvider = getParam('emdb-provider', '[^&]+').trim().toLowerCase();\n",
       "            var mapProvider = getParam('map-provider', '[^&]+').trim().toLowerCase();\n",
       "            var pixelScale = getParam('pixel-scale', '[^&]+').trim();\n",
       "            var pickScale = getParam('pick-scale', '[^&]+').trim();\n",
       "            var pickPadding = getParam('pick-padding', '[^&]+').trim();\n",
       "            var viewer = new molstar.Viewer('app', {\n",
       "                layoutShowControls: !hideControls,\n",
       "                viewportShowExpand: false,\n",
       "                collapseLeftPanel: collapseLeftPanel,\n",
       "                pdbProvider: pdbProvider || 'pdbe',\n",
       "                emdbProvider: emdbProvider || 'pdbe',\n",
       "                volumeStreamingServer: (mapProvider || 'pdbe') === 'rcsb'\n",
       "                    ? 'https://maps.rcsb.org'\n",
       "                    : 'https://www.ebi.ac.uk/pdbe/densities',\n",
       "                pixelScale: parseFloat(pixelScale) || 1,\n",
       "                pickScale: parseFloat(pickScale) || 0.25,\n",
       "                pickPadding: isNaN(parseFloat(pickPadding)) ? 1 : parseFloat(pickPadding),\n",
       "            });\n",
       "\n",
       "            var snapshotId = getParam('snapshot-id', '[^&]+').trim();\n",
       "            if (snapshotId) viewer.setRemoteSnapshot(snapshotId);\n",
       "\n",
       "            var snapshotUrl = getParam('snapshot-url', '[^&]+').trim();\n",
       "            var snapshotUrlType = getParam('snapshot-url-type', '[^&]+').toLowerCase().trim() || 'molj';\n",
       "            if (snapshotUrl && snapshotUrlType) viewer.loadSnapshotFromUrl(snapshotUrl, snapshotUrlType);\n",
       "\n",
       "            var structureUrl = getParam('structure-url', '[^&]+').trim();\n",
       "            var structureUrlFormat = getParam('structure-url-format', '[a-z]+').toLowerCase().trim();\n",
       "            var structureUrlIsBinary = getParam('structure-url-is-binary', '[^&]+').trim() === '1';\n",
       "            if (structureUrl) viewer.loadStructureFromUrl(structureUrl, structureUrlFormat, structureUrlIsBinary);\n",
       "\n",
       "            var pdb = getParam('pdb', '[^&]+').trim();\n",
       "            if (pdb) viewer.loadPdb(pdb);\n",
       "\n",
       "            var pdbDev = getParam('pdb-dev', '[^&]+').trim();\n",
       "            if (pdbDev) viewer.loadPdbDev(pdbDev);\n",
       "\n",
       "            var emdb = getParam('emdb', '[^&]+').trim();\n",
       "            if (emdb) viewer.loadEmdb(emdb);\n",
       "        </script>\n",
       "        <!-- __MOLSTAR_ANALYTICS__ -->\n",
       "    </body>\n",
       "</html>"
      ],
      "text/plain": [
       "<IPython.core.display.HTML object>"
      ]
     },
     "metadata": {},
     "output_type": "display_data"
    }
   ],
   "source": [
    "display(HTML(filename='/Users/pac8612/Molstar_work/index.html'))"
   ]
  },
  {
   "cell_type": "markdown",
   "id": "ee95ec64",
   "metadata": {},
   "source": [
    "<style>\n",
    "    #app {\n",
    "        position: absolute;\n",
    "        left: 100px;\n",
    "        top: 100px;\n",
    "        width: 800px;\n",
    "        height: 600px;\n",
    "    }\n",
    "</style>\n",
    "<!-- \n",
    "    molstar.js and .css are obtained from\n",
    "    - the folder build/viewer after cloning and building the molstar package \n",
    "    - from the build/viewer folder in the Mol* NPM package\n",
    "-->\n",
    "<link rel=\"stylesheet\" type=\"text/css\" href=\"molstar.css\" />\n",
    "<script type=\"text/javascript\" src=\"./molstar.js\"></script>\n",
    "\n",
    "<div id=\"app\"></div>\n",
    "\n",
    "<script type=\"text/javascript\">\n",
    "    var viewer = new molstar.Viewer('app', {\n",
    "        layoutIsExpanded: false,\n",
    "        layoutShowControls: false,\n",
    "        layoutShowRemoteState: false,\n",
    "        layoutShowSequence: true,\n",
    "        layoutShowLog: false,\n",
    "        layoutShowLeftPanel: true,\n",
    "\n",
    "        viewportShowExpand: true,\n",
    "        viewportShowSelectionMode: false,\n",
    "        viewportShowAnimation: false,\n",
    "\n",
    "        pdbProvider: 'rcsb',\n",
    "        emdbProvider: 'rcsb',\n",
    "    });\n",
    "    viewer.loadPdb('7bv2');\n",
    "    viewer.loadEmdb('EMD-30210', { detail: 6 });\n",
    "</script>\n"
   ]
  },
  {
   "cell_type": "markdown",
   "id": "2c5475ef",
   "metadata": {},
   "source": [
    "<style>\n",
    "    #app {\n",
    "        position: absolute;\n",
    "        left: 100px;\n",
    "        top: 100px;\n",
    "        width: 800px;\n",
    "        height: 600px;\n",
    "    }\n",
    "</style>\n",
    "<!-- \n",
    "    molstar.js and .css are obtained from\n",
    "    - the folder build/viewer after cloning and building the molstar package \n",
    "    - from the build/viewer folder in the Mol* NPM package\n",
    "-->\n",
    "<link rel=\"stylesheet\" type=\"text/css\" href=\"molstar.css\" />\n",
    "<script type=\"text/javascript\" src=\"./molstar.js\"></script>\n",
    "\n",
    "<div id=\"app\"></div>\n",
    "\n",
    "<script type=\"text/javascript\">\n",
    "    var viewer = new molstar.Viewer('app', {\n",
    "        layoutIsExpanded: false,\n",
    "        layoutShowControls: false,\n",
    "        layoutShowRemoteState: false,\n",
    "        layoutShowSequence: true,\n",
    "        layoutShowLog: false,\n",
    "        layoutShowLeftPanel: true,\n",
    "\n",
    "        viewportShowExpand: true,\n",
    "        viewportShowSelectionMode: false,\n",
    "        viewportShowAnimation: false,\n",
    "\n",
    "        pdbProvider: 'rcsb',\n",
    "        emdbProvider: 'rcsb',\n",
    "    });\n",
    "    viewer.loadPdb('7bv2');\n",
    "    viewer.loadEmdb('EMD-30210', { detail: 6 });\n",
    "</script>"
   ]
  },
  {
   "cell_type": "code",
   "execution_count": 24,
   "id": "2efc3d0b",
   "metadata": {},
   "outputs": [
    {
     "data": {
      "text/html": [
       "<a href = \"https://jupyter.org/\">Jupyter Notebook</a>\n",
       "<img src = \"./images/jupyter-logo.svg\">\n",
       "<style>\n",
       "    app {\n",
       "        position: absolute;\n",
       "        left: 100px;\n",
       "        top: 100px;\n",
       "        width: 800px;\n",
       "        height: 600px;\n",
       "    }\n",
       "</style>\n",
       "<!-- \n",
       "    molstar.js and .css are obtained from\n",
       "    - the folder build/viewer after cloning and building the molstar package \n",
       "    - from the build/viewer folder in the Mol* NPM package\n",
       "-->\n",
       "<link rel=\"stylesheet\" type=\"text/css\" href=\"molstar.css\" />\n",
       "<script type=\"text/javascript\" src=\"./molstar.js\"></script>\n",
       "\n",
       "<div id=\"app\"></div>\n",
       "\n",
       "<script type=\"text/javascript\">\n",
       "    var viewer = new molstar.Viewer('app', {\n",
       "        layoutIsExpanded: false,\n",
       "        layoutShowControls: false,\n",
       "        layoutShowRemoteState: false,\n",
       "        layoutShowSequence: true,\n",
       "        layoutShowLog: false,\n",
       "        layoutShowLeftPanel: true,\n",
       "\n",
       "        viewportShowExpand: true,\n",
       "        viewportShowSelectionMode: false,\n",
       "        viewportShowAnimation: false,\n",
       "\n",
       "        pdbProvider: 'rcsb',\n",
       "        emdbProvider: 'rcsb',\n",
       "    });\n",
       "    viewer.loadPdb('7bv2');\n",
       "    viewer.loadEmdb('EMD-30210', { detail: 6 });\n",
       "</script>\n"
      ],
      "text/plain": [
       "<IPython.core.display.HTML object>"
      ]
     },
     "metadata": {},
     "output_type": "display_data"
    }
   ],
   "source": [
    "%%HTML\n",
    "<a href = \"https://jupyter.org/\">Jupyter Notebook</a>\n",
    "<img src = \"./images/jupyter-logo.svg\">\n",
    "<style>\n",
    "    app {\n",
    "        position: absolute;\n",
    "        left: 100px;\n",
    "        top: 100px;\n",
    "        width: 800px;\n",
    "        height: 600px;\n",
    "    }\n",
    "</style>\n",
    "<!-- \n",
    "    molstar.js and .css are obtained from\n",
    "    - the folder build/viewer after cloning and building the molstar package \n",
    "    - from the build/viewer folder in the Mol* NPM package\n",
    "-->\n",
    "<link rel=\"stylesheet\" type=\"text/css\" href=\"molstar.css\" />\n",
    "<script type=\"text/javascript\" src=\"./molstar.js\"></script>\n",
    "\n",
    "<div id=\"app\"></div>\n",
    "\n",
    "<script type=\"text/javascript\">\n",
    "    var viewer = new molstar.Viewer('app', {\n",
    "        layoutIsExpanded: false,\n",
    "        layoutShowControls: false,\n",
    "        layoutShowRemoteState: false,\n",
    "        layoutShowSequence: true,\n",
    "        layoutShowLog: false,\n",
    "        layoutShowLeftPanel: true,\n",
    "\n",
    "        viewportShowExpand: true,\n",
    "        viewportShowSelectionMode: false,\n",
    "        viewportShowAnimation: false,\n",
    "\n",
    "        pdbProvider: 'rcsb',\n",
    "        emdbProvider: 'rcsb',\n",
    "    });\n",
    "    viewer.loadPdb('7bv2');\n",
    "    viewer.loadEmdb('EMD-30210', { detail: 6 });\n",
    "</script>"
   ]
  },
  {
   "cell_type": "code",
   "execution_count": 12,
   "id": "d5f08d49",
   "metadata": {},
   "outputs": [
    {
     "data": {
      "text/html": [
       "<table>\n",
       "<thead>\n",
       "  <tr>\n",
       "    <th>A</th>\n",
       "    <th>B</th>\n",
       "    <th>C</th>\n",
       "    <th>D</th>\n",
       "    <th>E</th>\n",
       "  </tr>\n",
       "</thead>\n",
       "<tbody>\n",
       "  <tr>\n",
       "    <td>a</td>\n",
       "    <td>b</td>\n",
       "    <td>c</td>\n",
       "    <td>d</td>\n",
       "    <td>e</td>\n",
       "  </tr>\n",
       "  <tr>\n",
       "    <td>1</td>\n",
       "    <td>2</td>\n",
       "    <td>3</td>\n",
       "    <td>4</td>\n",
       "    <td>5</td>\n",
       "  </tr>\n",
       "  <tr>\n",
       "    <td>alpha</td>\n",
       "    <td>beta</td>\n",
       "    <td>gamma</td>\n",
       "    <td>delta</td>\n",
       "    <td>epsilon</td>\n",
       "  </tr>\n",
       "</tbody>\n",
       "</table>\n"
      ],
      "text/plain": [
       "<IPython.core.display.HTML object>"
      ]
     },
     "metadata": {},
     "output_type": "display_data"
    }
   ],
   "source": [
    "%%HTML\n",
    "<table>\n",
    "<thead>\n",
    "  <tr>\n",
    "    <th>A</th>\n",
    "    <th>B</th>\n",
    "    <th>C</th>\n",
    "    <th>D</th>\n",
    "    <th>E</th>\n",
    "  </tr>\n",
    "</thead>\n",
    "<tbody>\n",
    "  <tr>\n",
    "    <td>a</td>\n",
    "    <td>b</td>\n",
    "    <td>c</td>\n",
    "    <td>d</td>\n",
    "    <td>e</td>\n",
    "  </tr>\n",
    "  <tr>\n",
    "    <td>1</td>\n",
    "    <td>2</td>\n",
    "    <td>3</td>\n",
    "    <td>4</td>\n",
    "    <td>5</td>\n",
    "  </tr>\n",
    "  <tr>\n",
    "    <td>alpha</td>\n",
    "    <td>beta</td>\n",
    "    <td>gamma</td>\n",
    "    <td>delta</td>\n",
    "    <td>epsilon</td>\n",
    "  </tr>\n",
    "</tbody>\n",
    "</table>"
   ]
  },
  {
   "cell_type": "code",
   "execution_count": 42,
   "id": "2938c60f",
   "metadata": {},
   "outputs": [
    {
     "data": {
      "application/javascript": [
       "alert(\"Hello World!\")\n"
      ],
      "text/plain": [
       "<IPython.core.display.Javascript object>"
      ]
     },
     "metadata": {},
     "output_type": "display_data"
    }
   ],
   "source": [
    "%%js\n",
    "alert(\"Hello World!\")"
   ]
  },
  {
   "cell_type": "code",
   "execution_count": 40,
   "id": "3a80363c",
   "metadata": {},
   "outputs": [
    {
     "data": {
      "application/javascript": [
       "var x = 5;\n",
       "var y = 6;\n",
       "var z = x + y;\n",
       "element.text(z)\n"
      ],
      "text/plain": [
       "<IPython.core.display.Javascript object>"
      ]
     },
     "metadata": {},
     "output_type": "display_data"
    }
   ],
   "source": [
    "%%js\n",
    "var x = 5;\n",
    "var y = 6;\n",
    "var z = x + y;\n",
    "element.text(z)"
   ]
  },
  {
   "cell_type": "code",
   "execution_count": 30,
   "id": "ae1a4840",
   "metadata": {},
   "outputs": [
    {
     "data": {
      "application/javascript": [
       "alert(\"Hello World!\")"
      ],
      "text/plain": [
       "<IPython.core.display.Javascript object>"
      ]
     },
     "metadata": {},
     "output_type": "display_data"
    }
   ],
   "source": [
    "from IPython.display import Javascript\n",
    "\n",
    "simpjs = Javascript('alert(\"Hello World!\")')\n",
    "display(simpjs)"
   ]
  },
  {
   "cell_type": "code",
   "execution_count": 36,
   "id": "cf3a41f1",
   "metadata": {},
   "outputs": [
    {
     "data": {
      "application/javascript": [
       "\n",
       "var x = 5;\n",
       "var y = 6\n",
       "var z = x + y;\n",
       "element.text(z)\n"
      ],
      "text/plain": [
       "<IPython.core.display.Javascript object>"
      ]
     },
     "metadata": {},
     "output_type": "display_data"
    }
   ],
   "source": [
    "js=\"\"\"\n",
    "var x = 5;\n",
    "var y = 6\n",
    "var z = x + y;\n",
    "element.text(z)\n",
    "\"\"\"\n",
    "\n",
    "jsvar = Javascript(js)\n",
    "\n",
    "display(jsvar)"
   ]
  },
  {
   "cell_type": "code",
   "execution_count": 17,
   "id": "9463d348",
   "metadata": {},
   "outputs": [
    {
     "data": {
      "application/javascript": [
       "\n",
       "var x = 5;\n",
       "var y = 6\n",
       "var z = x + y;\n",
       "element.text(z)\n"
      ],
      "text/plain": [
       "<IPython.core.display.Javascript object>"
      ]
     },
     "metadata": {},
     "output_type": "display_data"
    }
   ],
   "source": [
    "js = Javascript(\n",
    "\"\"\"\n",
    "var x = 5;\n",
    "var y = 6\n",
    "var z = x + y;\n",
    "element.text(z)\n",
    "\"\"\")\n",
    "\n",
    "display(js)"
   ]
  },
  {
   "cell_type": "code",
   "execution_count": 18,
   "id": "740341cf",
   "metadata": {},
   "outputs": [],
   "source": [
    "# How to Add JavaScript(NodeJS) to Jupyter Notebook. https://www.youtube.com/watch?v=XPh9LmLO8lI\n",
    "# install nodejs (I thought I already did this, so I checked)\n",
    "# node --version (response was v 6.13.1)\n",
    "# npm install -g ijavascript\n",
    "# ijsinstall\n",
    "# console.log(\"Hello JS\");"
   ]
  },
  {
   "cell_type": "code",
   "execution_count": 19,
   "id": "23a69809",
   "metadata": {},
   "outputs": [],
   "source": [
    "# from IPython.core.display import display, HTML, Javascript\n",
    "# _init_(data = \"./molstar.js\")"
   ]
  },
  {
   "cell_type": "code",
   "execution_count": null,
   "id": "f7acfc83",
   "metadata": {},
   "outputs": [],
   "source": []
  },
  {
   "cell_type": "code",
   "execution_count": 20,
   "id": "ba3c245a",
   "metadata": {},
   "outputs": [
    {
     "ename": "SyntaxError",
     "evalue": "invalid syntax (<ipython-input-20-55645fff61cb>, line 2)",
     "output_type": "error",
     "traceback": [
      "\u001b[0;36m  File \u001b[0;32m\"<ipython-input-20-55645fff61cb>\"\u001b[0;36m, line \u001b[0;32m2\u001b[0m\n\u001b[0;31m    <!DOCTYPE html>\u001b[0m\n\u001b[0m    ^\u001b[0m\n\u001b[0;31mSyntaxError\u001b[0m\u001b[0;31m:\u001b[0m invalid syntax\n"
     ]
    }
   ],
   "source": [
    "from IPython.core.display import display, HTML\n",
    "<!DOCTYPE html>\n",
    "<html lang=\"en\">\n",
    "    <head>\n",
    "        <meta charset=\"utf-8\" />\n",
    "        <meta name=\"viewport\" content=\"width=device-width, user-scalable=no, minimum-scale=1.0, maximum-scale=1.0\">\n",
    "        <link rel=\"icon\" href=\"./favicon.ico\" type=\"image/x-icon\">\n",
    "        <title>Mol* Viewer</title>\n",
    "        <style>\n",
    "            * {\n",
    "                margin: 0;\n",
    "                padding: 0;\n",
    "                box-sizing: border-box;\n",
    "            }\n",
    "            html, body {\n",
    "                width: 100%;\n",
    "                height: 100%;\n",
    "                overflow: hidden;\n",
    "            }\n",
    "            hr {\n",
    "                margin: 10px;\n",
    "            }\n",
    "            h1, h2, h3, h4, h5 {\n",
    "                margin-top: 5px;\n",
    "                margin-bottom: 3px;\n",
    "            }\n",
    "            button {\n",
    "                padding: 2px;\n",
    "            }\n",
    "            #app {\n",
    "                position: absolute;\n",
    "                left: 100px;\n",
    "                top: 100px;\n",
    "                width: 800px;\n",
    "                height: 600px;\n",
    "            }\n",
    "        </style>\n",
    "        <link rel=\"stylesheet\" type=\"text/css\" href=\"molstar.css\" />\n",
    "    </head>\n",
    "    <body>\n",
    "        <div id=\"app\"></div>\n",
    "        <script type=\"text/javascript\" src=\"./molstar.js\"></script>\n",
    "        <script type=\"text/javascript\">\n",
    "            function getParam(name, regex) {\n",
    "                var r = new RegExp(name + '=' + '(' + regex + ')[&]?', 'i');\n",
    "                return decodeURIComponent(((window.location.search || '').match(r) || [])[1] || '');\n",
    "            }\n",
    "\n",
    "            var debugMode = getParam('debug-mode', '[^&]+').trim() === '1';\n",
    "            if (debugMode) molstar.setDebugMode(debugMode, debugMode);\n",
    "\n",
    "            var hideControls = getParam('hide-controls', '[^&]+').trim() === '1';\n",
    "            var collapseLeftPanel = getParam('collapse-left-panel', '[^&]+').trim() === '1';\n",
    "            var pdbProvider = getParam('pdb-provider', '[^&]+').trim().toLowerCase();\n",
    "            var emdbProvider = getParam('emdb-provider', '[^&]+').trim().toLowerCase();\n",
    "            var mapProvider = getParam('map-provider', '[^&]+').trim().toLowerCase();\n",
    "            var pixelScale = getParam('pixel-scale', '[^&]+').trim();\n",
    "            var pickScale = getParam('pick-scale', '[^&]+').trim();\n",
    "            var pickPadding = getParam('pick-padding', '[^&]+').trim();\n",
    "            var viewer = new molstar.Viewer('app', {\n",
    "                layoutShowControls: !hideControls,\n",
    "                viewportShowExpand: false,\n",
    "                collapseLeftPanel: collapseLeftPanel,\n",
    "                pdbProvider: pdbProvider || 'pdbe',\n",
    "                emdbProvider: emdbProvider || 'pdbe',\n",
    "                volumeStreamingServer: (mapProvider || 'pdbe') === 'rcsb'\n",
    "                    ? 'https://maps.rcsb.org'\n",
    "                    : 'https://www.ebi.ac.uk/pdbe/densities',\n",
    "                pixelScale: parseFloat(pixelScale) || 1,\n",
    "                pickScale: parseFloat(pickScale) || 0.25,\n",
    "                pickPadding: isNaN(parseFloat(pickPadding)) ? 1 : parseFloat(pickPadding),\n",
    "            });\n",
    "\n",
    "            var snapshotId = getParam('snapshot-id', '[^&]+').trim();\n",
    "            if (snapshotId) viewer.setRemoteSnapshot(snapshotId);\n",
    "\n",
    "            var snapshotUrl = getParam('snapshot-url', '[^&]+').trim();\n",
    "            var snapshotUrlType = getParam('snapshot-url-type', '[^&]+').toLowerCase().trim() || 'molj';\n",
    "            if (snapshotUrl && snapshotUrlType) viewer.loadSnapshotFromUrl(snapshotUrl, snapshotUrlType);\n",
    "\n",
    "            var structureUrl = getParam('structure-url', '[^&]+').trim();\n",
    "            var structureUrlFormat = getParam('structure-url-format', '[a-z]+').toLowerCase().trim();\n",
    "            var structureUrlIsBinary = getParam('structure-url-is-binary', '[^&]+').trim() === '1';\n",
    "            if (structureUrl) viewer.loadStructureFromUrl(structureUrl, structureUrlFormat, structureUrlIsBinary);\n",
    "\n",
    "            var pdb = getParam('pdb', '[^&]+').trim();\n",
    "            if (pdb) viewer.loadPdb(pdb);\n",
    "\n",
    "            var pdbDev = getParam('pdb-dev', '[^&]+').trim();\n",
    "            if (pdbDev) viewer.loadPdbDev(pdbDev);\n",
    "\n",
    "            var emdb = getParam('emdb', '[^&]+').trim();\n",
    "            if (emdb) viewer.loadEmdb(emdb);\n",
    "        </script>\n",
    "        <!-- __MOLSTAR_ANALYTICS__ -->\n",
    "    </body>\n",
    "</html>"
   ]
  },
  {
   "cell_type": "code",
   "execution_count": null,
   "id": "51ca6fe9",
   "metadata": {},
   "outputs": [],
   "source": [
    "from IPython.core.display import HTML\n",
    "HTML('<h1>This is a header 1</h1>')"
   ]
  },
  {
   "cell_type": "code",
   "execution_count": null,
   "id": "a8d99ef0",
   "metadata": {},
   "outputs": [],
   "source": [
    "HTML('<img src = \"./images/jupyter-logo.svg\">')"
   ]
  },
  {
   "cell_type": "code",
   "execution_count": null,
   "id": "12e48468",
   "metadata": {},
   "outputs": [],
   "source": [
    "HTML('<a href = \"https://jupyter.org/\">Jupyter Notebook</a>')"
   ]
  },
  {
   "cell_type": "code",
   "execution_count": null,
   "id": "bef956d9",
   "metadata": {},
   "outputs": [],
   "source": [
    "myhtable = \"\"\"\n",
    "<table>\n",
    "<thead>\n",
    "  <tr>\n",
    "    <th>A</th>\n",
    "    <th>B</th>\n",
    "    <th>C</th>\n",
    "    <th>D</th>\n",
    "    <th>E</th>\n",
    "  </tr>\n",
    "</thead>\n",
    "<tbody>\n",
    "  <tr>\n",
    "    <td>a</td>\n",
    "    <td>b</td>\n",
    "    <td>c</td>\n",
    "    <td>d</td>\n",
    "    <td>e</td>\n",
    "  </tr>\n",
    "  <tr>\n",
    "    <td>1</td>\n",
    "    <td>2</td>\n",
    "    <td>3</td>\n",
    "    <td>4</td>\n",
    "    <td>5</td>\n",
    "  </tr>\n",
    "  <tr>\n",
    "    <td>alpha</td>\n",
    "    <td>beta</td>\n",
    "    <td>gamma</td>\n",
    "    <td>delta</td>\n",
    "    <td>epsilon</td>\n",
    "  </tr>\n",
    "</tbody>\n",
    "</table>\n",
    "\"\"\"\n",
    "HTML(myhtable)"
   ]
  },
  {
   "cell_type": "code",
   "execution_count": null,
   "id": "82f6e393",
   "metadata": {},
   "outputs": [],
   "source": []
  }
 ],
 "metadata": {
  "kernelspec": {
   "display_name": "Python 3",
   "language": "python",
   "name": "python3"
  },
  "language_info": {
   "codemirror_mode": {
    "name": "ipython",
    "version": 3
   },
   "file_extension": ".py",
   "mimetype": "text/x-python",
   "name": "python",
   "nbconvert_exporter": "python",
   "pygments_lexer": "ipython3",
   "version": "3.8.8"
  }
 },
 "nbformat": 4,
 "nbformat_minor": 5
}
